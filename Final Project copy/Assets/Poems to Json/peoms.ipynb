{
 "cells": [
  {
   "cell_type": "code",
   "execution_count": 1,
   "metadata": {},
   "outputs": [
    {
     "name": "stdout",
     "output_type": "stream",
     "text": [
      "JSON saved: pedro_pietri_poems.json\n"
     ]
    }
   ],
   "source": [
    "import pypdf\n",
    "import re\n",
    "import json\n",
    "\n",
    "def read_pdf(pdf_path):\n",
    "    with open(pdf_path, 'rb') as file:\n",
    "        reader = pypdf.PdfReader(file)\n",
    "        text = \"\"\n",
    "        for page in reader.pages:\n",
    "            text += page.extract_text()\n",
    "    return text\n",
    "\n",
    "def parse_poems_to_json(raw_text):\n",
    "    poems = []\n",
    "    current_title = None\n",
    "    current_lines = []\n",
    "\n",
    "    lines = raw_text.splitlines()\n",
    "    for line in lines:\n",
    "        line = line.strip()\n",
    "\n",
    "        # Match poem title line like: 6. Telephone Booth Number 580\n",
    "        match = re.match(r\"^(\\d+)\\.\\s+(.*)\", line)\n",
    "        if match:\n",
    "            # Save previous poem\n",
    "            if current_title:\n",
    "                poems.append({\n",
    "                    \"title\": current_title,\n",
    "                    \"content\": \"\\n\".join(current_lines)\n",
    "                })\n",
    "            current_title = match.group(2)\n",
    "            current_lines = []\n",
    "        elif current_title and line != \"\":\n",
    "            current_lines.append(line)\n",
    "\n",
    "    # Add last poem\n",
    "    if current_title:\n",
    "        poems.append({\n",
    "            \"title\": current_title,\n",
    "            \"content\": \"\\n\".join(current_lines)\n",
    "        })\n",
    "\n",
    "    return { \"poems\": poems }\n",
    "\n",
    "# Run it\n",
    "pdf_path = \"Pedro Pietri Loose joints.pdf\"\n",
    "pdf_text = read_pdf(pdf_path)\n",
    "poems_json = parse_poems_to_json(pdf_text)\n",
    "\n",
    "# Write to JSON file\n",
    "with open(\"pedro_pietri_poems.json\", \"w\", encoding=\"utf-8\") as f:\n",
    "    json.dump(poems_json, f, ensure_ascii=False, indent=2)\n",
    "\n",
    "print(\"JSON saved: pedro_pietri_poems.json\")\n",
    "\n"
   ]
  }
 ],
 "metadata": {
  "kernelspec": {
   "display_name": "Python 3",
   "language": "python",
   "name": "python3"
  },
  "language_info": {
   "codemirror_mode": {
    "name": "ipython",
    "version": 3
   },
   "file_extension": ".py",
   "mimetype": "text/x-python",
   "name": "python",
   "nbconvert_exporter": "python",
   "pygments_lexer": "ipython3",
   "version": "3.12.3"
  }
 },
 "nbformat": 4,
 "nbformat_minor": 2
}
